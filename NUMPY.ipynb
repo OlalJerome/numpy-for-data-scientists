{
 "cells": [
  {
   "cell_type": "markdown",
   "id": "d890460f",
   "metadata": {},
   "source": []
  },
  {
   "cell_type": "code",
   "execution_count": 2,
   "id": "74bd7e73",
   "metadata": {},
   "outputs": [
    {
     "name": "stdout",
     "output_type": "stream",
     "text": [
      "Collecting numpy\n",
      "  Downloading numpy-1.19.5-cp36-cp36m-win_amd64.whl (13.2 MB)\n",
      "Installing collected packages: numpy\n",
      "Successfully installed numpy-1.19.5\n",
      "[1 2 3 4 5]\n"
     ]
    }
   ],
   "source": [
    "!pip install numpy\n",
    "import numpy as np\n",
    "arr=np.array([1,2,3,4,5])\n",
    "print(arr)"
   ]
  },
  {
   "cell_type": "code",
   "execution_count": null,
   "id": "cb55a2e9",
   "metadata": {},
   "outputs": [
    {
     "name": "stdout",
     "output_type": "stream",
     "text": [
      "[0 1 2 3 4 5 6 7 8 9]\n"
     ]
    }
   ],
   "source": [
    "#1: Create a 1D Numpy array of numbers from 0 to 9\n",
    "import numpy as np\n",
    "a1=np.array([0,1,2,3,4,5,6,7,8,9])\n",
    "print(a1)"
   ]
  },
  {
   "cell_type": "code",
   "execution_count": 4,
   "id": "fbd24e61",
   "metadata": {},
   "outputs": [
    {
     "name": "stdout",
     "output_type": "stream",
     "text": [
      "[[[0 1 2]\n",
      "  [3 4 5]\n",
      "  [6 7 8]]]\n"
     ]
    }
   ],
   "source": [
    "#2: Create a 3x3 matrix with values ranging from 0 to 8\n",
    "a2=np.array([[[0,1,2],[3,4,5], [6,7,8]]])\n",
    "print(a2)"
   ]
  },
  {
   "cell_type": "code",
   "execution_count": 7,
   "id": "04c4398e",
   "metadata": {},
   "outputs": [
    {
     "name": "stdout",
     "output_type": "stream",
     "text": [
      "[[[1 0 0]\n",
      "  [0 1 0]\n",
      "  [0 0 1]]]\n"
     ]
    }
   ],
   "source": [
    "#3: Create a 3x3 identity matrix\n",
    "a3=np.array([[[1,0,0],[0,1,0], [0,0,1]]])\n",
    "print(a3)"
   ]
  },
  {
   "cell_type": "code",
   "execution_count": 35,
   "id": "79f5603b",
   "metadata": {},
   "outputs": [
    {
     "name": "stdout",
     "output_type": "stream",
     "text": [
      "6\n",
      "[ 8  7  1  1  3  6  3 10  3  3]\n",
      "[0.59043082 0.3898223  0.98827546 0.34780045 0.04466949 0.55218324\n",
      " 0.65000815 0.2415575  0.64490799 0.15742523]\n"
     ]
    }
   ],
   "source": [
    "#4: Generate an array of 10 random numbers between 0 and 1\n",
    "a4=np.random.randint(10)\n",
    "print(a4)\n",
    "a=np.random.randint(1,11, size=10)\n",
    "print(a)\n",
    "b=np.random.rand(10)\n",
    "print(b)"
   ]
  },
  {
   "cell_type": "code",
   "execution_count": 55,
   "id": "4734fe34",
   "metadata": {},
   "outputs": [
    {
     "name": "stdout",
     "output_type": "stream",
     "text": [
      "[ 1  2  3  4  5  6  7  8  9 10 11 12 13 14 15 16 17 18 19]\n",
      "[ 1  3  5  7  9 11 13 15 17 19]\n",
      "[-1  2 -1  4 -1  6 -1  8 -1 10 -1 12 -1 14 -1 16 -1 18 -1]\n"
     ]
    }
   ],
   "source": [
    "arr = np.arange(1,20)\n",
    "print(arr)\n",
    "\n",
    "#5 Extract all odd numbers from a numpy array\n",
    "odd= arr[arr%2!=0]\n",
    "print(odd)\n",
    "\n",
    "#6 Replace all odd numbers in the array with -1\n",
    "arr[arr%2!=0]=-1\n",
    "print(arr)\n"
   ]
  },
  {
   "cell_type": "code",
   "execution_count": 56,
   "id": "18ac315c",
   "metadata": {},
   "outputs": [
    {
     "name": "stdout",
     "output_type": "stream",
     "text": [
      "[50 40 30 20 10]\n"
     ]
    }
   ],
   "source": [
    "#7. Reverse the array arr=np.array([10,20,30,40,50])\n",
    "arr=np.array([10,20,30,40,50])\n",
    "arr_rev=arr[::-1]\n",
    "print(arr_rev)"
   ]
  },
  {
   "cell_type": "code",
   "execution_count": null,
   "id": "5181af02",
   "metadata": {},
   "outputs": [
    {
     "name": "stdout",
     "output_type": "stream",
     "text": [
      "[ 0.09424312 -0.0805641  -1.32593032  1.10042332  0.59032159 -0.81051082\n",
      " -0.43971423  0.60288788  0.02274227  0.49934363 -0.11362878 -0.79239519\n",
      "  1.3188836  -0.04022711  1.56179049 -2.38571031  0.69675083 -0.73655821\n",
      "  0.56879126  0.56761175  0.56623105 -0.4589076   0.20015966  1.13336557\n",
      "  0.3184065   0.56326566  0.38716906 -0.42581843  1.87891823 -0.12550386\n",
      "  1.62280004  1.14132607  0.07957866 -0.16408667 -0.55490082  0.39499922\n",
      "  0.72188316  0.02745184 -0.24722867  0.76403853  0.03050895  0.17393269\n",
      " -0.52130056  0.96914243  0.54732662 -0.69407289 -0.21337411 -0.47678126\n",
      "  0.75061615  1.20449864  0.45779074  0.04200121 -1.56842937 -1.16786958\n",
      "  0.30670899  0.26663601  0.72015044  0.48233458  0.44548846 -2.96888897\n",
      " -3.35246424  0.76621007  1.50646116  2.69248846  0.8693249   1.723378\n",
      "  1.02779457  0.65063129  0.83515399 -1.85489152 -0.42384479  1.17315152\n",
      "  0.09131045  1.01437215 -0.594066   -0.98813898 -1.27426087  0.9679116\n",
      " -0.11326389  0.47037785 -0.55138775 -0.40681529 -0.62041637  0.02166279\n",
      "  0.12420766  0.32654506 -0.57905086  0.86399318  0.19721412 -1.29177978\n",
      " -0.78637295 -0.41924087  0.95400763 -0.14288077 -1.44699452  0.82411224\n",
      "  1.59195045 -1.17309959  1.00331808 -0.56644667]\n",
      "The mean is:  0.1061827857546617\n",
      "The mean is:  0.18557340535041866\n",
      "The mean is:  0.9838186334897717\n"
     ]
    }
   ],
   "source": [
    "#8 Compute the mean, median and sd of arr=np.random.randn(100)\n",
    "arr=np.random.randn(100)\n",
    "print(arr)\n",
    "mean=np.mean(arr)\n",
    "median=np.median(arr)\n",
    "sd=np.std(arr)\n",
    "print(f\"The mean is: \",mean)\n",
    "print(f\"The mean is: \",median)\n",
    "print(f\"The mean is: \",sd)\n"
   ]
  },
  {
   "cell_type": "code",
   "execution_count": null,
   "id": "bc2c596d",
   "metadata": {},
   "outputs": [
    {
     "name": "stdout",
     "output_type": "stream",
     "text": [
      "[[ 1  2  3]\n",
      " [ 8 10 12]\n",
      " [21 24 27]]\n"
     ]
    }
   ],
   "source": [
    "#9 Multiply a 3x3 matrix by a 3x1 column vector\n",
    "\"\"\"\n",
    "arr3=np.array([[[1,2,3],[4,5,6],[7,8,9]]])\n",
    "arr1=np.array([1,2,3])\n",
    "arr_multiply=arr1*arr3\n",
    "#print(arr_multiply)\n",
    "\n",
    "\"\"\"\n",
    "vector = np.array([[1],[2],[3]])\n",
    "#print(vector)\n",
    "matrix = np.array([[1, 2, 3],[4, 5, 6],[7, 8, 9]])\n",
    "#print(matrix)\n",
    "result= vector * matrix\n",
    "print(result)"
   ]
  },
  {
   "cell_type": "code",
   "execution_count": null,
   "id": "2445f0de",
   "metadata": {},
   "outputs": [
    {
     "name": "stdout",
     "output_type": "stream",
     "text": [
      "[0.   0.25 0.5  0.75 1.  ]\n"
     ]
    }
   ],
   "source": [
    "#10 Normalize a 1D array values between 0 and 1\n",
    "arr1 = np.array([1, 2, 3, 4, 5])\n",
    "normal_arr1=(arr1-np.min(arr1))/(np.max(arr1)-np.min(arr1))\n",
    "print(normal_arr1)"
   ]
  },
  {
   "cell_type": "code",
   "execution_count": 81,
   "id": "9b00b8f0",
   "metadata": {},
   "outputs": [
    {
     "name": "stdout",
     "output_type": "stream",
     "text": [
      "[3 4 5]\n"
     ]
    }
   ],
   "source": [
    "#11.Return all elements greater than 2 in an array\n",
    "a=np.array([1,2,3,4,5])\n",
    "result=a[a>2]\n",
    "print(result)"
   ]
  },
  {
   "cell_type": "code",
   "execution_count": 92,
   "id": "1149d8cd",
   "metadata": {},
   "outputs": [
    {
     "name": "stdout",
     "output_type": "stream",
     "text": [
      "8\n",
      "Number of elements greater than 0.5 are:  1\n"
     ]
    }
   ],
   "source": [
    "#12. Count how many elements in a random array are greater than 0.5\n",
    "a=np.random.randint(10)\n",
    "count=np.sum(a>0.5)\n",
    "print(a)\n",
    "print(f\"Number of elements greater than 0.5 are: \", count)"
   ]
  },
  {
   "cell_type": "code",
   "execution_count": null,
   "id": "bbd5273c",
   "metadata": {},
   "outputs": [
    {
     "name": "stdout",
     "output_type": "stream",
     "text": [
      "[ 0  1  2  3  4  5  6  7  8  9 10 11 12 13 14 15 16 17 18 19 20 21 22 23\n",
      " 24]\n",
      "[[ 0  1  2  3  4]\n",
      " [ 5  6  7  8  9]\n",
      " [10 11 12 13 14]\n",
      " [15 16 17 18 19]\n",
      " [20 21 22 23 24]]\n"
     ]
    }
   ],
   "source": [
    "#13 Create a 5x5 matrix with rows ranging from 0 to 4\n",
    "matrix=np.arange(25)\n",
    "print(matrix)\n",
    "print(matrix.reshape(5,5))\n"
   ]
  },
  {
   "cell_type": "code",
   "execution_count": null,
   "id": "d31a42c0",
   "metadata": {},
   "outputs": [
    {
     "name": "stdout",
     "output_type": "stream",
     "text": [
      "8\n",
      "[1 2 3 4 5 6 7 8 0]\n"
     ]
    }
   ],
   "source": [
    "#14 Replace the maximum value in an array with 0\n",
    "arr=np.array([1,2,3,4,5,6,7,8,9,])\n",
    "maximum_index=np.argmax(arr)\n",
    "print(maximum_index)\n",
    "arr[maximum_index]=0\n",
    "print(arr)\n"
   ]
  },
  {
   "cell_type": "code",
   "execution_count": 106,
   "id": "a40a5cf5",
   "metadata": {},
   "outputs": [
    {
     "data": {
      "text/plain": [
       "array([[0, 1, 0, 1, 0, 1, 0, 1],\n",
       "       [1, 0, 1, 0, 1, 0, 1, 0],\n",
       "       [0, 1, 0, 1, 0, 1, 0, 1],\n",
       "       [1, 0, 1, 0, 1, 0, 1, 0],\n",
       "       [0, 1, 0, 1, 0, 1, 0, 1],\n",
       "       [1, 0, 1, 0, 1, 0, 1, 0],\n",
       "       [0, 1, 0, 1, 0, 1, 0, 1],\n",
       "       [1, 0, 1, 0, 1, 0, 1, 0]])"
      ]
     },
     "execution_count": 106,
     "metadata": {},
     "output_type": "execute_result"
    }
   ],
   "source": [
    "#15 Create a checkerboard matrix of 0s and 1s (8x8)\n",
    "checkerboard=np.zeros((8,8), dtype=int)\n",
    "checkerboard[1::2, ::2]=1\n",
    "checkerboard[::2, 1::2]=1\n",
    "checkerboard"
   ]
  }
 ],
 "metadata": {
  "kernelspec": {
   "display_name": "DATASCIENCE",
   "language": "python",
   "name": "python3"
  },
  "language_info": {
   "codemirror_mode": {
    "name": "ipython",
    "version": 3
   },
   "file_extension": ".py",
   "mimetype": "text/x-python",
   "name": "python",
   "nbconvert_exporter": "python",
   "pygments_lexer": "ipython3",
   "version": "3.6.13"
  }
 },
 "nbformat": 4,
 "nbformat_minor": 5
}
